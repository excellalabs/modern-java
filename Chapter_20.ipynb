{
 "cells": [
  {
   "cell_type": "markdown",
   "metadata": {},
   "source": [
    "# Chapter 20. OOP & Functional: Comparing Java to Scala\n",
    "\n",
    "**Session 28**\n",
    "\n",
    "**Agenda**\n",
    "\n",
    "- **Housekeeping**: notes & code, expensing food, start recording\n",
    "- **Recap**\n",
    "    - 19 functional techniques\n",
    "        - higher-order functions\n",
    "        - currying and partial application\n",
    "- **Today:** \n",
    "    - chapter 20 key concepts - blending OOP and functional\n",
    "- **For Next time:** \n",
    "    - chapter 21 - ???\n",
    "    \n",
    "This chapter covers:\n",
    "\n",
    "* Functions in Scala: higher-order, currying and partial application\n",
    "* Classes and Traits\n",
    "\n",
    "### 20.1 Intro to Scala\n",
    "\n",
    "> Scala is a programming language that mixes object-oriented and functional pro-\n",
    "gramming\n",
    "\n",
    "> You may wonder why we have a chapter about Scala in a Java book. This book has\n",
    "largely centered on adopting functional-style programming in Java. Scala, like Java,\n",
    "supports the concepts of functional-style processing of collections (that is, streamlike\n",
    "operations), first-class functions, and default methods. But Scala pushes these ideas\n",
    "further, providing a larger set of features that support these ideas compared with\n",
    "Java.\n",
    "\n",
    "**Scala is a superset of the Java programming language**.\n",
    "\n",
    "### 20.1.1 Hello World"
   ]
  },
  {
   "cell_type": "code",
   "execution_count": 4,
   "metadata": {},
   "outputs": [
    {
     "name": "stdout",
     "output_type": "stream",
     "text": [
      "Hello 2 bottles of beer\n",
      "Hello 3 bottles of beer\n",
      "Hello 4 bottles of beer\n",
      "Hello 5 bottles of beer\n",
      "Hello 6 bottles of beer\n"
     ]
    },
    {
     "data": {
      "text/plain": [
       "defined \u001b[32mfunction\u001b[39m \u001b[36mbeer\u001b[39m"
      ]
     },
     "execution_count": 4,
     "metadata": {},
     "output_type": "execute_result"
    }
   ],
   "source": [
    "def beer {\n",
    "    var n : Int = 2\n",
    "    while( n <= 6){\n",
    "        println(s\"Hello ${n} bottles of beer\")\n",
    "        n += 1\n",
    "    }\n",
    "}\n",
    "\n",
    "beer"
   ]
  },
  {
   "cell_type": "code",
   "execution_count": 3,
   "metadata": {},
   "outputs": [
    {
     "name": "stdout",
     "output_type": "stream",
     "text": [
      "Hello 2 bottles of beer\n",
      "Hello 3 bottles of beer\n",
      "Hello 4 bottles of beer\n",
      "Hello 5 bottles of beer\n",
      "Hello 6 bottles of beer\n"
     ]
    },
    {
     "data": {
      "text/plain": [
       "defined \u001b[32mfunction\u001b[39m \u001b[36mbeerAgain\u001b[39m"
      ]
     },
     "execution_count": 3,
     "metadata": {},
     "output_type": "execute_result"
    }
   ],
   "source": [
    "def beerAgain {\n",
    "    // let's write this more functionally!!\n",
    "}\n",
    "beerAgain"
   ]
  },
  {
   "cell_type": "markdown",
   "metadata": {},
   "source": [
    "> The Scala code is similar to the Java code but less verbose. First, you can create a range\n",
    "by using the expression 2 to 6 . Here’s something cool: 2 is an object of type Int . In\n",
    "Scala, everything is an object; there’s no concept of primitive types, as in Java, which\n",
    "makes Scala a complete object-oriented language.\n",
    "\n",
    "**Note: Scala, unlike Java is also a logically complete** language according to the [Curry-Haskel correspondence](https://wiki.haskell.org/Curry-Howard-Lambek_correspondence) (i.e., it has both tuples and union types).\n",
    "\n",
    "### 20.1.2 Data Structures: List, Set, Map, Tuple, Stream, Option"
   ]
  },
  {
   "cell_type": "code",
   "execution_count": 7,
   "metadata": {},
   "outputs": [
    {
     "data": {
      "text/html": [
       "<div class=\"jp-RenderedText\">\n",
       "<pre><code><span style=\"color: rgb(0, 187, 0)\"><span class=\"ansi-green-fg\">import </span></span><span style=\"color: rgb(0, 187, 187)\"><span class=\"ansi-cyan-fg\">java.util.Map.entry;\n",
       "</span></span>\n",
       "<span style=\"color: rgb(0, 187, 0)\"><span class=\"ansi-green-fg\">import </span></span><span style=\"color: rgb(0, 187, 187)\"><span class=\"ansi-cyan-fg\">java.util.HashMap;\n",
       "\n",
       "</span></span>\n",
       "<span style=\"color: rgb(0, 187, 187)\"><span class=\"ansi-cyan-fg\">authorsToAge</span></span>: <span style=\"color: rgb(0, 187, 0)\"><span class=\"ansi-green-fg\">Map</span></span>[<span style=\"color: rgb(0, 187, 0)\"><span class=\"ansi-green-fg\">String</span></span>, <span style=\"color: rgb(0, 187, 0)\"><span class=\"ansi-green-fg\">Int</span></span>] = <span style=\"color: yellow\"><span class=\"ansi-yellow-fg\">Map</span></span>(<span style=\"color: rgb(0, 187, 0)\"><span class=\"ansi-green-fg\">&quot;Raoul&quot;</span></span> -&gt; <span style=\"color: rgb(0, 187, 0)\"><span class=\"ansi-green-fg\">23</span></span>, <span style=\"color: rgb(0, 187, 0)\"><span class=\"ansi-green-fg\">&quot;Mario&quot;</span></span> -&gt; <span style=\"color: rgb(0, 187, 0)\"><span class=\"ansi-green-fg\">40</span></span>, <span style=\"color: rgb(0, 187, 0)\"><span class=\"ansi-green-fg\">&quot;Alan&quot;</span></span> -&gt; <span style=\"color: rgb(0, 187, 0)\"><span class=\"ansi-green-fg\">53</span></span>)\n",
       "<span style=\"color: rgb(0, 187, 187)\"><span class=\"ansi-cyan-fg\">authorsToAge2</span></span>: <span style=\"color: rgb(0, 187, 0)\"><span class=\"ansi-green-fg\">HashMap</span></span>[<span style=\"color: rgb(0, 187, 0)\"><span class=\"ansi-green-fg\">String</span></span>, <span style=\"color: rgb(0, 187, 0)\"><span class=\"ansi-green-fg\">Integer</span></span>] = {Raoul=23, Alan=53, Mario=40}\n",
       "<span style=\"color: rgb(0, 187, 187)\"><span class=\"ansi-cyan-fg\">res6_4</span></span>: <span style=\"color: rgb(0, 187, 0)\"><span class=\"ansi-green-fg\">Integer</span></span> = <span style=\"color: rgb(0, 187, 0)\"><span class=\"ansi-green-fg\">null</span></span>\n",
       "<span style=\"color: rgb(0, 187, 187)\"><span class=\"ansi-cyan-fg\">res6_5</span></span>: <span style=\"color: rgb(0, 187, 0)\"><span class=\"ansi-green-fg\">Integer</span></span> = <span style=\"color: rgb(0, 187, 0)\"><span class=\"ansi-green-fg\">null</span></span>\n",
       "<span style=\"color: rgb(0, 187, 187)\"><span class=\"ansi-cyan-fg\">res6_6</span></span>: <span style=\"color: rgb(0, 187, 0)\"><span class=\"ansi-green-fg\">Integer</span></span> = <span style=\"color: rgb(0, 187, 0)\"><span class=\"ansi-green-fg\">null</span></span>\n",
       "<span style=\"color: rgb(0, 187, 187)\"><span class=\"ansi-cyan-fg\">authorsToAge3</span></span>: <span style=\"color: rgb(0, 187, 0)\"><span class=\"ansi-green-fg\">java</span></span>.<span style=\"color: rgb(0, 187, 0)\"><span class=\"ansi-green-fg\">util</span></span>.<span style=\"color: rgb(0, 187, 0)\"><span class=\"ansi-green-fg\">Map</span></span>[<span style=\"color: rgb(0, 187, 0)\"><span class=\"ansi-green-fg\">String</span></span>, <span style=\"color: rgb(0, 187, 0)\"><span class=\"ansi-green-fg\">Int</span></span>] = {Mario=40, Raoul=23, Alan=53}</code></pre>\n",
       "</div>"
      ],
      "text/plain": [
       "\u001b[32mimport \u001b[39m\u001b[36mjava.util.Map.entry;\n",
       "\u001b[39m\n",
       "\u001b[32mimport \u001b[39m\u001b[36mjava.util.HashMap;\n",
       "\n",
       "\u001b[39m\n",
       "\u001b[36mauthorsToAge\u001b[39m: \u001b[32mMap\u001b[39m[\u001b[32mString\u001b[39m, \u001b[32mInt\u001b[39m] = \u001b[33mMap\u001b[39m(\u001b[32m\"Raoul\"\u001b[39m -> \u001b[32m23\u001b[39m, \u001b[32m\"Mario\"\u001b[39m -> \u001b[32m40\u001b[39m, \u001b[32m\"Alan\"\u001b[39m -> \u001b[32m53\u001b[39m)\n",
       "\u001b[36mauthorsToAge2\u001b[39m: \u001b[32mHashMap\u001b[39m[\u001b[32mString\u001b[39m, \u001b[32mInteger\u001b[39m] = {Raoul=23, Alan=53, Mario=40}\n",
       "\u001b[36mres6_4\u001b[39m: \u001b[32mInteger\u001b[39m = \u001b[32mnull\u001b[39m\n",
       "\u001b[36mres6_5\u001b[39m: \u001b[32mInteger\u001b[39m = \u001b[32mnull\u001b[39m\n",
       "\u001b[36mres6_6\u001b[39m: \u001b[32mInteger\u001b[39m = \u001b[32mnull\u001b[39m\n",
       "\u001b[36mauthorsToAge3\u001b[39m: \u001b[32mjava\u001b[39m.\u001b[32mutil\u001b[39m.\u001b[32mMap\u001b[39m[\u001b[32mString\u001b[39m, \u001b[32mInt\u001b[39m] = {Mario=40, Raoul=23, Alan=53}"
      ]
     },
     "metadata": {},
     "output_type": "display_data"
    }
   ],
   "source": [
    "import java.util.Map.entry;\n",
    "import java.util.HashMap;\n",
    "\n",
    "val authorsToAge = Map(\"Raoul\" -> 23, \"Mario\" -> 40, \"Alan\" -> 53)\n",
    "                       \n",
    "var authorsToAge2 = new HashMap[String, Integer]()\n",
    "authorsToAge2.put(\"Raoul\", 23)\n",
    "authorsToAge2.put(\"Mario\", 40)\n",
    "authorsToAge2.put(\"Alan\", 53)\n",
    "                       \n",
    "var authorsToAge3 = java.util.Map.ofEntries(entry(\"Raoul\", 23), entry(\"Mario\", 40), entry(\"Alan\", 53))"
   ]
  },
  {
   "cell_type": "markdown",
   "metadata": {},
   "source": [
    "> One important fact to keep in mind is that the collections you created previously are immutable by default, which means that they can’t be changed after they’re created. Immutability is useful because you know that accessing the collection at any point in your program always yields a collection with the same elements.\n",
    "\n",
    "**Unmodifiable vs. immutable**\n",
    "Java provides several ways to create unmodifiable collections. In the following code, the variable newNumbers is a read-only view of the set numbers:\n",
    "\n",
    "```java\n",
    "Set<Integer> numbers = new HashSet<>();\n",
    "Set<Integer> newNumbers = Collections.unmodifiableSet(numbers);\n",
    "```\n",
    "\n",
    "This code means that you won’t be able to add new elements through the `newNumbers` variable. But an unmodifiable collection is a wrapper over a modifiable collection, so you could still add elements by accessing the `numbers` variable.\n",
    "By contrast, immutable collections guarantee that nothing can change the collection, regardless of how many variables are pointing to it. We explained in chapter 19 how you could create a persistent data structure: an immutable data structure that preserves the previous version of itself when modified.  Any modifications always produce a new updated structure."
   ]
  },
  {
   "cell_type": "markdown",
   "metadata": {},
   "source": []
  },
  {
   "cell_type": "code",
   "execution_count": null,
   "metadata": {},
   "outputs": [],
   "source": []
  }
 ],
 "metadata": {
  "kernelspec": {
   "display_name": "Scala",
   "language": "scala",
   "name": "scala"
  },
  "language_info": {
   "codemirror_mode": "text/x-scala",
   "file_extension": ".scala",
   "mimetype": "text/x-scala",
   "name": "scala",
   "nbconvert_exporter": "script",
   "version": "2.13.2"
  }
 },
 "nbformat": 4,
 "nbformat_minor": 4
}
