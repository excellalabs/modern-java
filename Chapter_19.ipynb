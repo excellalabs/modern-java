{
 "cells": [
  {
   "cell_type": "markdown",
   "metadata": {},
   "source": [
    "# Chapter 19. Functional programming techniques\n",
    "\n",
    "**Session 28**\n",
    "\n",
    "**Agenda**\n",
    "\n",
    "- **Housekeeping**: notes & code, expensing food, start recording\n",
    "- **Recap**\n",
    "    - 18 thinking functionally\n",
    "        - writing code w/o side effects\n",
    "        - using functions\n",
    "- **Today:** \n",
    "    - chapter 19 key concepts - techniques in functional programming \n",
    "- **For Next time:** \n",
    "    - chapter 20 - Blending OOP and functional\n",
    "    \n",
    "This chapter covers:\n",
    "\n",
    "* higher-order functions, currying, and partial application\n",
    "* Persistent data structures\n",
    "* Lazy evaluation and lazy lists as generalizing Java\n",
    "streams\n",
    "* Pattern matching and how to simulate it in Java\n",
    "* Referential transparency and caching\n",
    "\n",
    "### 19.1 Functions\n",
    "\n",
    "Functions are first class citizens in Java."
   ]
  },
  {
   "cell_type": "code",
   "execution_count": null,
   "metadata": {},
   "outputs": [],
   "source": [
    "import java.util.function.*;\n",
    "import java.util.stream.*;"
   ]
  },
  {
   "cell_type": "code",
   "execution_count": null,
   "metadata": {},
   "outputs": [],
   "source": [
    "UnaryOperator<Integer> squareIt = x -> x * x;\n",
    "System.out.println(\n",
    "    squareIt.apply(5)\n",
    ");\n",
    "Function<String, Integer> strToInt = Integer::parseInt;\n",
    "System.out.println(\n",
    "    strToInt.apply(\"5\")\n",
    ");"
   ]
  },
  {
   "cell_type": "markdown",
   "metadata": {},
   "source": [
    "### 19.1.1  Higher order functions\n",
    "\n",
    "Functions that take another function as a parameter or return a function as a result"
   ]
  },
  {
   "cell_type": "code",
   "execution_count": null,
   "metadata": {},
   "outputs": [],
   "source": [
    "var myList = List.of(1, 2, 4, 8);\n",
    "myList.stream().map(squareIt).collect(Collectors.toList());"
   ]
  },
  {
   "cell_type": "code",
   "execution_count": null,
   "metadata": {},
   "outputs": [],
   "source": [
    "Function<Integer, Stream<Integer>> prevAndNext = i -> List.of(i - 1, i, i + 1).stream();\n",
    "myList.stream()\n",
    "    .map(squareIt)\n",
    "    .flatMap(prevAndNext)\n",
    "    .collect(Collectors.toList());"
   ]
  },
  {
   "cell_type": "markdown",
   "metadata": {},
   "source": [
    "### 19.1.2 Currying\n",
    "\n",
    "Let's practice by converting Celsius to Farenheit.\n",
    "\n",
    "Unit conversion always involves a conversion factor and, from time to time, a base-\n",
    "line adjustment factor. The formula to convert Celsius to Fahrenheit, for example, is\n",
    "CtoF(x) = x*9/5 + 32 . \n",
    "The basic pattern of all unit conversion is as follows:\n",
    "  - Multiply by the conversion factor.\n",
    "  - Adjust the baseline if relevant."
   ]
  },
  {
   "cell_type": "code",
   "execution_count": null,
   "metadata": {},
   "outputs": [],
   "source": [
    "double converter(double x, double f, double b) {\n",
    "    return x * f + b;\n",
    "}\n",
    "\n",
    "var celsius = 100;\n",
    "converter(celsius, 1.8, 32);"
   ]
  },
  {
   "cell_type": "code",
   "execution_count": null,
   "metadata": {},
   "outputs": [],
   "source": [
    "UnaryOperator<Double> curriedConverter(Double f, Double b) {\n",
    "    return x -> x * f + b;\n",
    "}\n",
    "var cToF = curriedConverter(1.8, 32d);\n",
    "var usdToGbp = curriedConverter(0.6, 0d);\n",
    "var kmToMi = curriedConverter(0.6214, 0d);\n",
    "\n",
    "var value = cToF.apply(100d);\n",
    "System.out.println(value);"
   ]
  },
  {
   "cell_type": "markdown",
   "metadata": {},
   "source": [
    "Given general types:\n",
    "\n",
    "A f(B, C, D) = (B -> A) f(C, D)\n",
    "\n",
    "In fact, any function can be represented as a chain of curried calls.  [See Haskell](https://wiki.haskell.org/Currying#:~:text=In%20Haskell%2C%20all%20functions%20are,(b%20%2D%3E%20c)%20.)\n",
    "\n",
    "### 19.2 Persistent data structures"
   ]
  },
  {
   "cell_type": "code",
   "execution_count": null,
   "metadata": {},
   "outputs": [],
   "source": [
    "class TrainJourney {\n",
    "    public int price;\n",
    "    public TrainJourney onward;\n",
    "    public TrainJourney(int p, TrainJourney t) {\n",
    "        price = p;\n",
    "        onward = t;\n",
    "    }\n",
    "}"
   ]
  },
  {
   "cell_type": "markdown",
   "metadata": {},
   "source": [
    "> suppose that a variable firstJourney contains the route\n",
    "from X to Y and that a variable secondJourney contains the route from Y to Z. If you\n",
    "call link(firstJourney, secondJourney) , this code destructively updates first-\n",
    "Journey to also contain secondJourney , so in addition to the single user who\n",
    "requests a trip from X to Z seeing the combined journey as intended, the journey\n",
    "from X to Y has been updated destructively. Indeed, the firstJourney variable is no\n",
    "longer a route from X to Y, but one from X to Z, which breaks code that depends on\n",
    "firstJourney ’s not being modified!"
   ]
  },
  {
   "cell_type": "code",
   "execution_count": null,
   "metadata": {},
   "outputs": [],
   "source": [
    "TrainJourney link(TrainJourney a, TrainJourney b){\n",
    "    if (a==null) return b;\n",
    "        TrainJourney t = a;\n",
    "    while(t.onward != null){\n",
    "        t = t.onward;\n",
    "    }\n",
    "    t.onward = b;\n",
    "    return a;\n",
    "}"
   ]
  },
  {
   "cell_type": "code",
   "execution_count": null,
   "metadata": {},
   "outputs": [],
   "source": [
    "TrainJourney append(TrainJourney a, TrainJourney b) {\n",
    "    return a==null ? b : new TrainJourney(a.price, append(a.onward, b));\n",
    "}"
   ]
  },
  {
   "cell_type": "markdown",
   "metadata": {},
   "source": [
    "Pure functional data structures use recursion and don't allow for mutation of state.\n",
    "\n",
    "### 19.3 Lazy evaluation with Streams\n",
    "\n",
    "Let's get a list of prime numbers."
   ]
  },
  {
   "cell_type": "code",
   "execution_count": null,
   "metadata": {},
   "outputs": [],
   "source": [
    "public boolean isPrime(int candidate) {\n",
    "    int candidateRoot = (int) Math.sqrt((double) candidate);\n",
    "    return IntStream.rangeClosed(2, candidateRoot)\n",
    "        .noneMatch(i -> candidate % i == 0);\n",
    "}\n",
    "\n",
    "public Stream<Integer> primes(int n) {\n",
    "    return Stream.iterate(2, i -> i + 1)\n",
    "        .filter(x -> isPrime(x))\n",
    "        .limit(n);\n",
    "}"
   ]
  },
  {
   "cell_type": "code",
   "execution_count": null,
   "metadata": {},
   "outputs": [],
   "source": [
    "primes(7).collect(Collectors.toList())"
   ]
  },
  {
   "cell_type": "markdown",
   "metadata": {},
   "source": [
    "> You have to iterate through every number\n",
    "every time to see whether it can be divided by a candidate number. (In fact, you need\n",
    "only test numbers that have been already classified as prime.)\n",
    "Ideally, the stream should filter out numbers that are divisible by the prime that\n",
    "the stream is producing on the go"
   ]
  },
  {
   "cell_type": "code",
   "execution_count": null,
   "metadata": {},
   "outputs": [],
   "source": [
    "// get stream of numbers\n",
    "IntStream numbers(){\n",
    "    return IntStream.iterate(2, n -> n + 1);\n",
    "}\n",
    "\n",
    "// take the head\n",
    "int head(IntStream numbers){\n",
    "    return numbers.findFirst().getAsInt();\n",
    "}\n",
    "\n",
    "// get the tail\n",
    "IntStream tail(IntStream numbers){\n",
    "    return numbers.skip(1);\n",
    "}\n",
    "\n",
    "// recursively create stream of primes\n",
    "IntStream primes2(IntStream numbers) {\n",
    "    int head = head(numbers);\n",
    "    return IntStream.concat(\n",
    "        IntStream.of(head),\n",
    "        primes(tail(numbers).filter(n -> n % head != 0))\n",
    "    );\n",
    "}"
   ]
  },
  {
   "cell_type": "code",
   "execution_count": null,
   "metadata": {},
   "outputs": [],
   "source": [
    "primes2(numbers());"
   ]
  },
  {
   "cell_type": "markdown",
   "metadata": {},
   "source": [
    "> you’re using two terminal operations to split the stream into its head and tail: find-\n",
    "First and skip . Remember from chapter 4 that after you call a terminal operation on\n",
    "a stream, it’s consumed forever!"
   ]
  },
  {
   "cell_type": "markdown",
   "metadata": {},
   "source": [
    "> Lazy Evaluation: There’s an additional, more important problem : the method IntStream.concat expects two instances of a stream, but its second argument is a direct recursive call to primes , resulting in an infinite recursion! For many Java purposes, restrictions on Java 8 streams such as no recursive definitions are unproblematic and give your database-like queries expressivity and the ability to parallelize. Thus, the Java 8 designers chose a sweet spot. Nonetheless, the more general features and models of streams from functional languages such as Scala and Haskell can be useful additions to your programming toolbox. What you need is a way to lazily evaluate the call to the method.\n",
    "\n",
    "> Functional programming techniques: primes in the second argument of concat . (In a more technical programming vocabulary, we refer to this concept as lazy evaluation, nonstrict evaluation or even call by name.) Only when you need to process the prime numbers (such as with the limit method) should the stream be evaluated. Scala (which we explore in chapter 20) provides support for this idea."
   ]
  },
  {
   "cell_type": "markdown",
   "metadata": {},
   "source": [
    "### 19.4 Pattern matching\n",
    "\n",
    "Doesn't really exist in Java.  Switch expressions introduced in Java 13.\n",
    "\n",
    "[Java switch: 4 wrongs don't make a right](https://blog.joda.org/2019/11/java-switch-4-wrongs-dont-make-right.html)\n",
    "\n",
    "Java 14 updates usage of instanceOf to be more type safe:\n",
    "\n",
    "https://blogs.oracle.com/javamagazine/pattern-matching-for-instanceof-in-java-14\n",
    "\n",
    "\n"
   ]
  },
  {
   "cell_type": "code",
   "execution_count": null,
   "metadata": {},
   "outputs": [],
   "source": [
    "void outputToUppercase(Object obj) {\n",
    "    if (obj instanceof String) {\n",
    "        String str = (String) obj;\n",
    "        System.out.println(str.toUpperCase());\n",
    "    }\n",
    "}\n",
    "\n",
    "void outputToUppercase2(Object obj) {\n",
    "    if (obj instanceof String str) {\n",
    "        System.out.println(str.toUpperCase());\n",
    "    }\n",
    "}"
   ]
  },
  {
   "cell_type": "code",
   "execution_count": null,
   "metadata": {},
   "outputs": [],
   "source": [
    "outputToUppercase2(\"abc\");"
   ]
  },
  {
   "cell_type": "markdown",
   "metadata": {},
   "source": [
    "### 19.5 Caching\n",
    "\n",
    "> Even using (lock-protected) Hashtable or (concurrent-without-locking) ConcurrentHashMap instead of HashMap may not produce the expected performance if parallel calls are made.  Can be race conditions, which means that multiple processes might compute the same value to add to the map . Perhaps the best thing to take away from this struggle is the fact that mixing mutable state with concurrency is trickier than you’d imagine. Functional-style programming\n",
    "avoids this practice except for low-level performance hacks such as caching. A second takeaway is that apart from implementing tricks such as caching, if you code in functional style, you never need to care whether another functional-style method that you call is synchronized, because you know that it has no shared mutable state.\n",
    "\n",
    "### Combinators\n",
    "\n",
    "i.e., Monads!"
   ]
  },
  {
   "cell_type": "markdown",
   "metadata": {},
   "source": [
    "### Summary\n",
    "\n",
    "- First-class functions are functions that can be passed as arguments, returned as results, and stored in data structures.\n",
    "- A higher-order function takes one or more functions as input or returns another function. Typical higher-order functions in Java include comparing, andThen, and compose .\n",
    "- Currying is a technique that lets you modularize functions and reuse code.\n",
    "- A persistent data structure preserves the previous version of itself when it’s modified. As a result, it can prevent unnecessary defensive copying.  Streams in Java can’t be self-defined.\n",
    "- A lazy list is a more-expressive version of a Java stream. A lazy list lets you produce elements of the list on demand by using a supplier that can create more of the data structure.\n",
    "- Pattern matching is a functional feature that lets you unwrap data types. You can view data matching as generalizing Java’s switch statement.\n",
    "- Referential transparency allows computations to be cached.\n",
    "- Combinators are functional ideas that combine two or more functions"
   ]
  }
 ],
 "metadata": {
  "kernelspec": {
   "display_name": "Java",
   "language": "java",
   "name": "java"
  },
  "language_info": {
   "codemirror_mode": "java",
   "file_extension": ".jshell",
   "mimetype": "text/x-java-source",
   "name": "Java",
   "pygments_lexer": "java",
   "version": "15.0.1+9-18"
  }
 },
 "nbformat": 4,
 "nbformat_minor": 4
}
