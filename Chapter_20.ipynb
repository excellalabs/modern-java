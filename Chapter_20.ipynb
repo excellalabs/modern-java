{
 "cells": [
  {
   "cell_type": "markdown",
   "metadata": {},
   "source": [
    "# Chapter 20. OOP & Functional: Comparing Java to Scala\n",
    "\n",
    "**Session 28**\n",
    "\n",
    "**Agenda**\n",
    "\n",
    "- **Housekeeping**: notes & code, expensing food, start recording\n",
    "- **Recap**\n",
    "    - 19 functional techniques\n",
    "        - higher-order functions\n",
    "        - currying and partial application\n",
    "- **Today:** \n",
    "    - chapter 20 key concepts - blending OOP and functional\n",
    "- **For Next time:** \n",
    "    - chapter 21 - ???\n",
    "    \n",
    "This chapter covers:\n",
    "\n",
    "* Functions in Scala: higher-order, currying and partial application\n",
    "* Classes and Traits\n",
    "\n",
    "### 20.1 Intro to Scala\n",
    "\n",
    "> Scala is a programming language that mixes object-oriented and functional pro-\n",
    "gramming\n",
    "\n",
    "> You may wonder why we have a chapter about Scala in a Java book. This book has\n",
    "largely centered on adopting functional-style programming in Java. Scala, like Java,\n",
    "supports the concepts of functional-style processing of collections (that is, streamlike\n",
    "operations), first-class functions, and default methods. But Scala pushes these ideas\n",
    "further, providing a larger set of features that support these ideas compared with\n",
    "Java.\n",
    "\n",
    "**Scala is a superset of the Java programming language**.\n",
    "\n",
    "### 20.1.1 Hello World"
   ]
  },
  {
   "cell_type": "code",
   "execution_count": 4,
   "metadata": {},
   "outputs": [
    {
     "name": "stdout",
     "output_type": "stream",
     "text": [
      "Hello 2 bottles of beer\n",
      "Hello 3 bottles of beer\n",
      "Hello 4 bottles of beer\n",
      "Hello 5 bottles of beer\n",
      "Hello 6 bottles of beer\n"
     ]
    },
    {
     "data": {
      "text/plain": [
       "defined \u001b[32mfunction\u001b[39m \u001b[36mbeer\u001b[39m"
      ]
     },
     "execution_count": 4,
     "metadata": {},
     "output_type": "execute_result"
    }
   ],
   "source": [
    "def beer {\n",
    "    var n : Int = 2\n",
    "    while( n <= 6){\n",
    "        println(s\"Hello ${n} bottles of beer\")\n",
    "        n += 1\n",
    "    }\n",
    "}\n",
    "\n",
    "beer"
   ]
  },
  {
   "cell_type": "code",
   "execution_count": 3,
   "metadata": {},
   "outputs": [
    {
     "name": "stdout",
     "output_type": "stream",
     "text": [
      "Hello 2 bottles of beer\n",
      "Hello 3 bottles of beer\n",
      "Hello 4 bottles of beer\n",
      "Hello 5 bottles of beer\n",
      "Hello 6 bottles of beer\n"
     ]
    },
    {
     "data": {
      "text/plain": [
       "defined \u001b[32mfunction\u001b[39m \u001b[36mbeerAgain\u001b[39m"
      ]
     },
     "execution_count": 3,
     "metadata": {},
     "output_type": "execute_result"
    }
   ],
   "source": [
    "def beerAgain {\n",
    "    // let's write this more functionally!!\n",
    "}\n",
    "beerAgain"
   ]
  },
  {
   "cell_type": "markdown",
   "metadata": {},
   "source": [
    "> The Scala code is similar to the Java code but less verbose. First, you can create a range\n",
    "by using the expression 2 to 6 . Here’s something cool: 2 is an object of type Int . In\n",
    "Scala, everything is an object; there’s no concept of primitive types, as in Java, which\n",
    "makes Scala a complete object-oriented language.\n",
    "\n",
    "**Note: Scala, unlike Java is also a logically complete** language according to the [Curry-Haskel correspondence](https://wiki.haskell.org/Curry-Howard-Lambek_correspondence) (i.e., it has both tuples and union types).\n",
    "\n",
    "### 20.1.2 Data Structures: List, Set, Map, Tuple, Stream, Option"
   ]
  },
  {
   "cell_type": "code",
   "execution_count": 7,
   "metadata": {},
   "outputs": [
    {
     "data": {
      "text/html": [
       "<div class=\"jp-RenderedText\">\n",
       "<pre><code><span style=\"color: rgb(0, 187, 0)\"><span class=\"ansi-green-fg\">import </span></span><span style=\"color: rgb(0, 187, 187)\"><span class=\"ansi-cyan-fg\">java.util.Map.entry;\n",
       "</span></span>\n",
       "<span style=\"color: rgb(0, 187, 0)\"><span class=\"ansi-green-fg\">import </span></span><span style=\"color: rgb(0, 187, 187)\"><span class=\"ansi-cyan-fg\">java.util.HashMap;\n",
       "\n",
       "</span></span>\n",
       "<span style=\"color: rgb(0, 187, 187)\"><span class=\"ansi-cyan-fg\">authorsToAge</span></span>: <span style=\"color: rgb(0, 187, 0)\"><span class=\"ansi-green-fg\">Map</span></span>[<span style=\"color: rgb(0, 187, 0)\"><span class=\"ansi-green-fg\">String</span></span>, <span style=\"color: rgb(0, 187, 0)\"><span class=\"ansi-green-fg\">Int</span></span>] = <span style=\"color: yellow\"><span class=\"ansi-yellow-fg\">Map</span></span>(<span style=\"color: rgb(0, 187, 0)\"><span class=\"ansi-green-fg\">&quot;Raoul&quot;</span></span> -&gt; <span style=\"color: rgb(0, 187, 0)\"><span class=\"ansi-green-fg\">23</span></span>, <span style=\"color: rgb(0, 187, 0)\"><span class=\"ansi-green-fg\">&quot;Mario&quot;</span></span> -&gt; <span style=\"color: rgb(0, 187, 0)\"><span class=\"ansi-green-fg\">40</span></span>, <span style=\"color: rgb(0, 187, 0)\"><span class=\"ansi-green-fg\">&quot;Alan&quot;</span></span> -&gt; <span style=\"color: rgb(0, 187, 0)\"><span class=\"ansi-green-fg\">53</span></span>)\n",
       "<span style=\"color: rgb(0, 187, 187)\"><span class=\"ansi-cyan-fg\">authorsToAge2</span></span>: <span style=\"color: rgb(0, 187, 0)\"><span class=\"ansi-green-fg\">HashMap</span></span>[<span style=\"color: rgb(0, 187, 0)\"><span class=\"ansi-green-fg\">String</span></span>, <span style=\"color: rgb(0, 187, 0)\"><span class=\"ansi-green-fg\">Integer</span></span>] = {Raoul=23, Alan=53, Mario=40}\n",
       "<span style=\"color: rgb(0, 187, 187)\"><span class=\"ansi-cyan-fg\">res6_4</span></span>: <span style=\"color: rgb(0, 187, 0)\"><span class=\"ansi-green-fg\">Integer</span></span> = <span style=\"color: rgb(0, 187, 0)\"><span class=\"ansi-green-fg\">null</span></span>\n",
       "<span style=\"color: rgb(0, 187, 187)\"><span class=\"ansi-cyan-fg\">res6_5</span></span>: <span style=\"color: rgb(0, 187, 0)\"><span class=\"ansi-green-fg\">Integer</span></span> = <span style=\"color: rgb(0, 187, 0)\"><span class=\"ansi-green-fg\">null</span></span>\n",
       "<span style=\"color: rgb(0, 187, 187)\"><span class=\"ansi-cyan-fg\">res6_6</span></span>: <span style=\"color: rgb(0, 187, 0)\"><span class=\"ansi-green-fg\">Integer</span></span> = <span style=\"color: rgb(0, 187, 0)\"><span class=\"ansi-green-fg\">null</span></span>\n",
       "<span style=\"color: rgb(0, 187, 187)\"><span class=\"ansi-cyan-fg\">authorsToAge3</span></span>: <span style=\"color: rgb(0, 187, 0)\"><span class=\"ansi-green-fg\">java</span></span>.<span style=\"color: rgb(0, 187, 0)\"><span class=\"ansi-green-fg\">util</span></span>.<span style=\"color: rgb(0, 187, 0)\"><span class=\"ansi-green-fg\">Map</span></span>[<span style=\"color: rgb(0, 187, 0)\"><span class=\"ansi-green-fg\">String</span></span>, <span style=\"color: rgb(0, 187, 0)\"><span class=\"ansi-green-fg\">Int</span></span>] = {Mario=40, Raoul=23, Alan=53}</code></pre>\n",
       "</div>"
      ],
      "text/plain": [
       "\u001b[32mimport \u001b[39m\u001b[36mjava.util.Map.entry;\n",
       "\u001b[39m\n",
       "\u001b[32mimport \u001b[39m\u001b[36mjava.util.HashMap;\n",
       "\n",
       "\u001b[39m\n",
       "\u001b[36mauthorsToAge\u001b[39m: \u001b[32mMap\u001b[39m[\u001b[32mString\u001b[39m, \u001b[32mInt\u001b[39m] = \u001b[33mMap\u001b[39m(\u001b[32m\"Raoul\"\u001b[39m -> \u001b[32m23\u001b[39m, \u001b[32m\"Mario\"\u001b[39m -> \u001b[32m40\u001b[39m, \u001b[32m\"Alan\"\u001b[39m -> \u001b[32m53\u001b[39m)\n",
       "\u001b[36mauthorsToAge2\u001b[39m: \u001b[32mHashMap\u001b[39m[\u001b[32mString\u001b[39m, \u001b[32mInteger\u001b[39m] = {Raoul=23, Alan=53, Mario=40}\n",
       "\u001b[36mres6_4\u001b[39m: \u001b[32mInteger\u001b[39m = \u001b[32mnull\u001b[39m\n",
       "\u001b[36mres6_5\u001b[39m: \u001b[32mInteger\u001b[39m = \u001b[32mnull\u001b[39m\n",
       "\u001b[36mres6_6\u001b[39m: \u001b[32mInteger\u001b[39m = \u001b[32mnull\u001b[39m\n",
       "\u001b[36mauthorsToAge3\u001b[39m: \u001b[32mjava\u001b[39m.\u001b[32mutil\u001b[39m.\u001b[32mMap\u001b[39m[\u001b[32mString\u001b[39m, \u001b[32mInt\u001b[39m] = {Mario=40, Raoul=23, Alan=53}"
      ]
     },
     "metadata": {},
     "output_type": "display_data"
    }
   ],
   "source": [
    "import java.util.Map.entry;\n",
    "import java.util.HashMap;\n",
    "\n",
    "val authorsToAge = Map(\"Raoul\" -> 23, \"Mario\" -> 40, \"Alan\" -> 53)\n",
    "                       \n",
    "var authorsToAge2 = new HashMap[String, Integer]()\n",
    "authorsToAge2.put(\"Raoul\", 23)\n",
    "authorsToAge2.put(\"Mario\", 40)\n",
    "authorsToAge2.put(\"Alan\", 53)\n",
    "                       \n",
    "var authorsToAge3 = java.util.Map.ofEntries(entry(\"Raoul\", 23), entry(\"Mario\", 40), entry(\"Alan\", 53))"
   ]
  },
  {
   "cell_type": "markdown",
   "metadata": {},
   "source": [
    "> One important fact to keep in mind is that the collections you created previously are immutable by default, which means that they can’t be changed after they’re created. Immutability is useful because you know that accessing the collection at any point in your program always yields a collection with the same elements.\n",
    "\n",
    "**Unmodifiable vs. immutable**\n",
    "Java provides several ways to create unmodifiable collections. In the following code, the variable newNumbers is a read-only view of the set numbers:\n",
    "\n",
    "```java\n",
    "Set<Integer> numbers = new HashSet<>();\n",
    "Set<Integer> newNumbers = Collections.unmodifiableSet(numbers);\n",
    "```\n",
    "\n",
    "This code means that you won’t be able to add new elements through the `newNumbers` variable. But an unmodifiable collection is a wrapper over a modifiable collection, so you could still add elements by accessing the `numbers` variable.\n",
    "By contrast, immutable collections guarantee that nothing can change the collection, regardless of how many variables are pointing to it. We explained in chapter 19 how you could create a persistent data structure: an immutable data structure that preserves the previous version of itself when modified.  Any modifications always produce a new updated structure."
   ]
  },
  {
   "cell_type": "markdown",
   "metadata": {},
   "source": [
    "##### Tuples"
   ]
  },
  {
   "cell_type": "code",
   "execution_count": 1,
   "metadata": {},
   "outputs": [
    {
     "data": {
      "text/plain": [
       "\u001b[36mbook\u001b[39m: (\u001b[32mInt\u001b[39m, \u001b[32mString\u001b[39m, \u001b[32mString\u001b[39m) = (\u001b[32m2018\u001b[39m, \u001b[32m\"Modern Java in Action\"\u001b[39m, \u001b[32m\"Manning\"\u001b[39m)\n",
       "\u001b[36mnumbers\u001b[39m: (\u001b[32mInt\u001b[39m, \u001b[32mInt\u001b[39m, \u001b[32mInt\u001b[39m, \u001b[32mInt\u001b[39m, \u001b[32mInt\u001b[39m) = (\u001b[32m42\u001b[39m, \u001b[32m1337\u001b[39m, \u001b[32m0\u001b[39m, \u001b[32m3\u001b[39m, \u001b[32m14\u001b[39m)"
      ]
     },
     "execution_count": 1,
     "metadata": {},
     "output_type": "execute_result"
    }
   ],
   "source": [
    "val book = (2018, \"Modern Java in Action\", \"Manning\")\n",
    "val numbers = (42, 1337, 0, 3, 14)"
   ]
  },
  {
   "cell_type": "markdown",
   "metadata": {},
   "source": [
    "##### Streams (see examples from Ch. 19 Scala notebook)\n",
    "\n",
    "##### Option"
   ]
  },
  {
   "cell_type": "code",
   "execution_count": 3,
   "metadata": {},
   "outputs": [
    {
     "data": {
      "text/plain": [
       "defined \u001b[32mclass\u001b[39m \u001b[36mInsurance\u001b[39m\n",
       "defined \u001b[32mclass\u001b[39m \u001b[36mCar\u001b[39m\n",
       "defined \u001b[32mclass\u001b[39m \u001b[36mPerson\u001b[39m\n",
       "defined \u001b[32mfunction\u001b[39m \u001b[36mgetCarInsuranceName\u001b[39m"
      ]
     },
     "execution_count": 3,
     "metadata": {},
     "output_type": "execute_result"
    }
   ],
   "source": [
    "case class Insurance(name: String)\n",
    "case class Car(insurance: Option[Insurance])\n",
    "case class Person(age: Int, car: Option[Car])\n",
    "\n",
    "def getCarInsuranceName(person: Option[Person], minAge: Int) =\n",
    "    person.filter(_.age >= minAge)\n",
    "        .flatMap(_.car)\n",
    "        .flatMap(_.insurance)\n",
    "        .map(_.name)\n",
    "        .getOrElse(\"Unknown\")"
   ]
  },
  {
   "cell_type": "markdown",
   "metadata": {},
   "source": [
    "### 20.2 Functions\n",
    "\n",
    "Functions are 1st class citizens in Scala."
   ]
  },
  {
   "cell_type": "code",
   "execution_count": 4,
   "metadata": {},
   "outputs": [
    {
     "name": "stdout",
     "output_type": "stream",
     "text": [
      "I love the new features in Java\n",
      "How's it going?\n"
     ]
    },
    {
     "data": {
      "text/plain": [
       "\u001b[36mtweets\u001b[39m: \u001b[32mList\u001b[39m[\u001b[32mString\u001b[39m] = \u001b[33mList\u001b[39m(\n",
       "  \u001b[32m\"I love the new features in Java\"\u001b[39m,\n",
       "  \u001b[32m\"How's it going?\"\u001b[39m,\n",
       "  \u001b[32m\"An SQL query walks into a bar, sees two tables and says 'Can I join you?'\"\u001b[39m\n",
       ")\n",
       "defined \u001b[32mfunction\u001b[39m \u001b[36misJavaMentioned\u001b[39m\n",
       "defined \u001b[32mfunction\u001b[39m \u001b[36misShortTweet\u001b[39m"
      ]
     },
     "execution_count": 4,
     "metadata": {},
     "output_type": "execute_result"
    }
   ],
   "source": [
    "val tweets = List(\n",
    "    \"I love the new features in Java\",\n",
    "    \"How's it going?\",\n",
    "    \"An SQL query walks into a bar, sees two tables and says 'Can I join you?'\"\n",
    ")\n",
    "def isJavaMentioned(tweet: String) : Boolean = tweet.contains(\"Java\")\n",
    "def isShortTweet(tweet: String) : Boolean = tweet.length() < 20\n",
    "\n",
    "tweets.filter(isJavaMentioned).foreach(println)\n",
    "tweets.filter(isShortTweet).foreach(println)"
   ]
  },
  {
   "cell_type": "markdown",
   "metadata": {},
   "source": [
    "Now inspect the signature of the built-in method filter :\n",
    "`def filter[T](p: (T) => Boolean): List[T]`\n",
    "\n",
    "You may wonder what the type of the parameter p means (here, (T) => Boolean ), because in Java, you’d expect a functional interface. This Scala syntax isn’t (yet) available in Java, but it describes a function type. Here, the type represents a function that takes an object of type T and returns a Boolean . In Java, this type is expressed as a\n",
    "`Predicate<T>` or `Function<T, Boolean>` , which has the same signature as the `isJavaMentioned` and `isShortTweet` methods, so you can pass them as arguments to filter . The designers of the Java language decided not to introduce similar syntax for func-\n",
    "tion types to keep the language consistent with previous versions. (Introducing too much new syntax in a new version of the language is viewed as adding too much cognitive overhead.)"
   ]
  },
  {
   "cell_type": "markdown",
   "metadata": {},
   "source": [
    "### 20.2.3 Currying\n",
    "\n",
    "Let's rewrite the curried converter example from Chap. 19.\n",
    "\n",
    "```java\n",
    "UnaryOperator<Double> curriedConverter(Double f, Double b) {\n",
    "    return x -> x * f + b;\n",
    "}\n",
    "var cToF = curriedConverter(1.8, 32d);\n",
    "var usdToGbp = curriedConverter(0.6, 0d);\n",
    "var kmToMi = curriedConverter(0.6214, 0d);\n",
    "\n",
    "var value = usdToGbp.apply(100d);\n",
    "System.out.println(value);\n",
    "```"
   ]
  },
  {
   "cell_type": "code",
   "execution_count": 4,
   "metadata": {},
   "outputs": [],
   "source": [
    "// rewrite curried converter"
   ]
  },
  {
   "cell_type": "markdown",
   "metadata": {},
   "source": [
    "### 20.3 Classes and Traits\n",
    "\n",
    "### 20.3.1 Classes are more concise in Scala.\n",
    "\n",
    "Consider the class:\n",
    "\n",
    "```java\n",
    "public class Student {\n",
    "    private String name;\n",
    "    private int id;\n",
    "    public Student(String name) {\n",
    "    this.name = name;\n",
    "    }\n",
    "    public String getName() {\n",
    "    return name;\n",
    "    }\n",
    "    public void setName(String name) {\n",
    "    this.name = name;\n",
    "    }\n",
    "    public int getId() {\n",
    "    return id;\n",
    "    }\n",
    "    public void setId(int id) {\n",
    "    this.id = id;\n",
    "    }\n",
    "}\n",
    "```"
   ]
  },
  {
   "cell_type": "code",
   "execution_count": null,
   "metadata": {},
   "outputs": [],
   "source": [
    "// rewrite Student as a case class"
   ]
  },
  {
   "cell_type": "markdown",
   "metadata": {},
   "source": [
    "### 20.3.2 Traits vs interfaces\n",
    "\n",
    "> Scala has another useful feature for abstraction, called traits, which are Scala’s replacement for Java’s interfaces. A trait can define both abstract methods and methods with a default implementation. Traits can also be multiply inherited like interfaces in Java, so you can see them as being similar to Java interfaces that support default methods. Traits can also contain fields such as abstract classes, which Java interfaces don’t support."
   ]
  },
  {
   "cell_type": "code",
   "execution_count": 5,
   "metadata": {},
   "outputs": [
    {
     "name": "stdout",
     "output_type": "stream",
     "text": [
      "true\n",
      "true\n"
     ]
    },
    {
     "data": {
      "text/plain": [
       "defined \u001b[32mtrait\u001b[39m \u001b[36mSized\u001b[39m\n",
       "defined \u001b[32mclass\u001b[39m \u001b[36mEmpty\u001b[39m\n",
       "defined \u001b[32mclass\u001b[39m \u001b[36mBox\u001b[39m\n",
       "\u001b[36mb1\u001b[39m: \u001b[32mBox\u001b[39m with \u001b[32mSized\u001b[39m = ammonite.$sess.cmd4$Helper$$anon$1@59316a5a\n",
       "\u001b[36mb2\u001b[39m: \u001b[32mBox\u001b[39m = ammonite.$sess.cmd4$Helper$Box@284f354f"
      ]
     },
     "execution_count": 5,
     "metadata": {},
     "output_type": "execute_result"
    }
   ],
   "source": [
    "trait Sized {\n",
    "    var size : Int = 0\n",
    "    def isEmpty() = size == 0\n",
    "}\n",
    "\n",
    "class Empty extends Sized\n",
    "println(new Empty().isEmpty())\n",
    "\n",
    "class Box\n",
    "val b1 = new Box() with Sized\n",
    "println(b1.isEmpty())\n",
    "val b2 = new Box()\n",
    "// b2.isEmpty()"
   ]
  },
  {
   "cell_type": "markdown",
   "metadata": {},
   "source": [
    "[Trait Mixing](https://alvinalexander.com/scala/how-to-use-scala-traits-as-mixins-mixing-in-traits/)"
   ]
  },
  {
   "cell_type": "markdown",
   "metadata": {},
   "source": [
    "### Summary\n",
    "\n",
    "- Java and Scala combine object-oriented and functional-programming features into one programming language; both run on the JVM and to a large extent\n",
    "can interoperate.\n",
    "- Scala supports collection abstractions similar to those in Java: List , Set , Map , Stream , Option - but also supports tuples.\n",
    "- Scala provides richer features that support more functions than Java does.\n",
    "- These features include function types, closures that have no restrictions on accessing local variables, and built-in currying forms.\n",
    "- Classes in Scala can provide implicit constructors, getters, and setters.\n",
    "- Scala supports traits, which are interfaces that can include fields and default\n",
    "methods."
   ]
  },
  {
   "cell_type": "code",
   "execution_count": null,
   "metadata": {},
   "outputs": [],
   "source": []
  }
 ],
 "metadata": {
  "kernelspec": {
   "display_name": "Scala",
   "language": "scala",
   "name": "scala"
  },
  "language_info": {
   "codemirror_mode": "text/x-scala",
   "file_extension": ".scala",
   "mimetype": "text/x-scala",
   "name": "scala",
   "nbconvert_exporter": "script",
   "version": "2.13.2"
  }
 },
 "nbformat": 4,
 "nbformat_minor": 4
}
